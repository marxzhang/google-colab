{
  "nbformat": 4,
  "nbformat_minor": 0,
  "metadata": {
    "colab": {
      "private_outputs": true,
      "provenance": [],
      "toc_visible": true,
      "gpuType": "T4",
      "authorship_tag": "ABX9TyNH5mTFUCXpZSthqxu2pi2h",
      "include_colab_link": true
    },
    "kernelspec": {
      "name": "python3",
      "display_name": "Python 3"
    },
    "language_info": {
      "name": "python"
    },
    "accelerator": "GPU"
  },
  "cells": [
    {
      "cell_type": "markdown",
      "metadata": {
        "id": "view-in-github",
        "colab_type": "text"
      },
      "source": [
        "<a href=\"https://colab.research.google.com/github/marxzhang/google-colab/blob/main/pytorch.ipynb\" target=\"_parent\"><img src=\"https://colab.research.google.com/assets/colab-badge.svg\" alt=\"Open In Colab\"/></a>"
      ]
    },
    {
      "cell_type": "markdown",
      "source": [
        "# Pytorch From Scratch"
      ],
      "metadata": {
        "id": "y0a-_xgBZQdH"
      }
    },
    {
      "cell_type": "code",
      "source": [
        "import torch\n",
        "print(torch.__version__)\n",
        "torch.cuda.is_available()\n",
        "torch.version.cuda"
      ],
      "metadata": {
        "id": "iwemPDq5ZWz5"
      },
      "execution_count": null,
      "outputs": []
    },
    {
      "cell_type": "code",
      "source": [
        "t = torch.tensor([1,2,3])\n",
        "t1 = t.cuda()\n",
        "t1"
      ],
      "metadata": {
        "id": "k4cGx1_qeaYv"
      },
      "execution_count": null,
      "outputs": []
    },
    {
      "cell_type": "code",
      "source": [
        "dd = [[1,2,3],[4,5,6],[7,8,9]]\n",
        "print(dd)\n",
        "print(type(dd))\n",
        "dd1 = torch.tensor(dd)\n",
        "print(dd1)\n",
        "print(type(dd1))"
      ],
      "metadata": {
        "id": "ghbhkMTui_sS"
      },
      "execution_count": null,
      "outputs": []
    }
  ]
}