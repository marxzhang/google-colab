{
  "nbformat": 4,
  "nbformat_minor": 0,
  "metadata": {
    "colab": {
      "private_outputs": true,
      "provenance": [],
      "toc_visible": true,
      "gpuType": "T4",
      "authorship_tag": "ABX9TyNkXmU16wGpRxrSMp2wGXKO",
      "include_colab_link": true
    },
    "kernelspec": {
      "name": "python3",
      "display_name": "Python 3"
    },
    "language_info": {
      "name": "python"
    },
    "accelerator": "GPU"
  },
  "cells": [
    {
      "cell_type": "markdown",
      "metadata": {
        "id": "view-in-github",
        "colab_type": "text"
      },
      "source": [
        "<a href=\"https://colab.research.google.com/github/marxzhang/google-colab/blob/main/pytorch.ipynb\" target=\"_parent\"><img src=\"https://colab.research.google.com/assets/colab-badge.svg\" alt=\"Open In Colab\"/></a>"
      ]
    },
    {
      "cell_type": "markdown",
      "source": [
        "# Pytorch From Scratch"
      ],
      "metadata": {
        "id": "y0a-_xgBZQdH"
      }
    },
    {
      "cell_type": "code",
      "source": [
        "import torch\n",
        "import numpy as np\n",
        "# print(torch.__version__)\n",
        "# torch.cuda.is_available()\n",
        "# torch.version.cuda"
      ],
      "metadata": {
        "id": "iwemPDq5ZWz5"
      },
      "execution_count": null,
      "outputs": []
    },
    {
      "cell_type": "code",
      "source": [
        "t = torch.tensor([1,2,3])\n",
        "t1 = t.cuda()\n",
        "print(t1)"
      ],
      "metadata": {
        "id": "k4cGx1_qeaYv"
      },
      "execution_count": null,
      "outputs": []
    },
    {
      "cell_type": "code",
      "source": [
        "dd = [[1,2,3],[4,5,6],[7,8,9]]\n",
        "print(dd)\n",
        "print(type(dd))\n",
        "dd1 = torch.tensor(dd)\n",
        "print(dd1)\n",
        "print(type(dd1))\n",
        "#reshape返回值是复制的结果\n",
        "dd2 = dd1.reshape(1,9)\n",
        "print(len(dd2))\n",
        "dd3 = dd2.reshape(9,1)\n",
        "print(len(dd3))\n",
        "print(dd3.shape)\n"
      ],
      "metadata": {
        "id": "ghbhkMTui_sS"
      },
      "execution_count": null,
      "outputs": []
    },
    {
      "cell_type": "code",
      "source": [
        "import torch\n",
        "import numpy as np\n",
        "\n",
        "t = torch.Tensor()\n",
        "print(type(t))\n",
        "#Tensor的三个属性\n",
        "print(t.dtype)\n",
        "print(t.device)\n",
        "print(t.layout)"
      ],
      "metadata": {
        "id": "tlRQE2nlvcoB"
      },
      "execution_count": null,
      "outputs": []
    },
    {
      "cell_type": "code",
      "source": [
        "t1 = torch.Tensor([1,2,3])\n",
        "t2 = torch.Tensor([1.,2.,3.])\n",
        "# 强制转换为float\n",
        "print(t1+t2)\n",
        "print(type(t1+t2))\n",
        "\n",
        "t3 = t1.cuda()\n",
        "print(t3.device)\n",
        "# 错误\n",
        "print(t1+t3)"
      ],
      "metadata": {
        "id": "i9R-6wt9xdI3"
      },
      "execution_count": null,
      "outputs": []
    },
    {
      "cell_type": "code",
      "source": [
        "a = torch.eye(2)\n",
        "b = torch.zeros(2,2)\n",
        "c = torch.ones(2,2)\n",
        "d = torch.rand(2,2)\n",
        "\n",
        "\n",
        "print(a)\n",
        "print(b)\n",
        "print(c)\n",
        "print(d)"
      ],
      "metadata": {
        "id": "PGOWwLJ3MYSq"
      },
      "execution_count": null,
      "outputs": []
    },
    {
      "cell_type": "code",
      "source": [
        "# print(torch.get_default_dtype())\n",
        "\n",
        "\n",
        "data = np.array([1,2,3])\n",
        "# print(type(data))\n",
        "# 类的构造函数，使用的是torch的默认数据格式，也即dtype=torch.float32\n",
        "d1 = torch.Tensor(data)\n",
        "# 剩余三种都是tensor factory function，构造的都是dtype=torch.int64\n",
        "d2 = torch.tensor(data)\n",
        "\n",
        "\n",
        "# 前两种方式是复制，后两种是引用\n",
        "# 减少复制，可以提升效率\n",
        "# as_tensor支持的输入类型不止有nnumpy.ndarray，故应用更广泛\n",
        "d3 = torch.as_tensor(data)\n",
        "d4 = torch.from_numpy(data)\n",
        "\n",
        "data[0] = 0\n",
        "data[1] = 0\n",
        "data[2] = 0\n",
        "\n",
        "print(d1)\n",
        "print(d2)\n",
        "print(d3)\n",
        "print(d4)\n",
        "\n",
        "# print(d1.dtype)\n",
        "# print(type(d2))\n",
        "# print(d2.dtype)\n",
        "# print(type(d3))\n",
        "# print(type(d4))"
      ],
      "metadata": {
        "id": "BEJlFVKuKxkE"
      },
      "execution_count": null,
      "outputs": []
    },
    {
      "cell_type": "code",
      "source": [
        "t = torch.tensor([[1,2,3,4],[2,3,4,5],[3,4,5,6]],dtype=torch.float32)\n",
        "# # size是方法，shape是属性\n",
        "# print(t.size())\n",
        "# print(t.shape)\n",
        "# # number of elements\n",
        "# print(t.numel())\n",
        "\n",
        "t1 = t.reshape(1,12)\n",
        "print(t1)\n",
        "# 删除为1的维度\n",
        "t2 = t1.squeeze()\n",
        "print(t2)\n",
        "# 按照索引增加维度\n",
        "t3 = t2.unsqueeze(dim=1)\n",
        "print(t3)\n",
        "\n",
        "# 将任意维度的tensor展平成一个一维数组\n",
        "def flatten(t):\n",
        "    # -1代表让pytorch自己去寻找合适的数值\n",
        "    t = t.reshape(1,-1)\n",
        "    t = t.squeeze()\n",
        "    return t\n",
        "\n",
        "t4 = flatten(t)\n",
        "print(t4)"
      ],
      "metadata": {
        "id": "YOJShAmsTym4"
      },
      "execution_count": null,
      "outputs": []
    }
  ]
}