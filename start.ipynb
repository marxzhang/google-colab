{
  "nbformat": 4,
  "nbformat_minor": 0,
  "metadata": {
    "colab": {
      "provenance": [],
      "gpuType": "T4",
      "toc_visible": true,
      "mount_file_id": "1_hR_qLVNipEdDrOFKZDf7aBx95vd7O1Q",
      "authorship_tag": "ABX9TyP56/SJm+ZRYLucdEE1UaS9",
      "include_colab_link": true
    },
    "kernelspec": {
      "name": "python3",
      "display_name": "Python 3"
    },
    "language_info": {
      "name": "python"
    },
    "accelerator": "GPU"
  },
  "cells": [
    {
      "cell_type": "markdown",
      "metadata": {
        "id": "view-in-github",
        "colab_type": "text"
      },
      "source": [
        "<a href=\"https://colab.research.google.com/github/marxzhang/google-colab/blob/main/start.ipynb\" target=\"_parent\"><img src=\"https://colab.research.google.com/assets/colab-badge.svg\" alt=\"Open In Colab\"/></a>"
      ]
    },
    {
      "cell_type": "code",
      "execution_count": null,
      "metadata": {
        "id": "iIO1R9KVv8ES"
      },
      "outputs": [],
      "source": [
        "# import cv2\n",
        "# print(cv2.__version__)\n",
        "\n",
        "!nvidia-smi"
      ]
    },
    {
      "cell_type": "code",
      "source": [
        "!pwd"
      ],
      "metadata": {
        "id": "91EW-rSs1POu"
      },
      "execution_count": null,
      "outputs": []
    },
    {
      "cell_type": "code",
      "source": [
        "!pip install ultralytics"
      ],
      "metadata": {
        "id": "CAe7Go0VSaKA"
      },
      "execution_count": null,
      "outputs": []
    },
    {
      "cell_type": "code",
      "source": [
        "from ultralytics import YOLO"
      ],
      "metadata": {
        "id": "ZykV6Q36Svdz"
      },
      "execution_count": null,
      "outputs": []
    },
    {
      "cell_type": "code",
      "source": [
        "!yolo task=detect mode=predict model=yolov8l.pt conf=0.25 source='./drive/MyDrive/DATA/animal-5/valid/images/-1_jpg.rf.a93f3da33817545a896fc4b45cf17bc9.jpg'"
      ],
      "metadata": {
        "id": "lWTFWwxzW3uv"
      },
      "execution_count": null,
      "outputs": []
    },
    {
      "cell_type": "markdown",
      "source": [
        "**Custom Data Training**"
      ],
      "metadata": {
        "id": "YIf2293dY0Je"
      }
    },
    {
      "cell_type": "code",
      "source": [
        "!yolo task=detect mode=train model=yolov8l.pt data=/content/drive/MyDrive/DATA/animal-5/data.yaml epochs=50 imgsz=640"
      ],
      "metadata": {
        "id": "pjDHX9Ud6_wF"
      },
      "execution_count": null,
      "outputs": []
    },
    {
      "cell_type": "code",
      "source": [
        "from ultralytics import YOLO\n",
        "import cv2\n",
        "import math\n",
        "\n",
        "model = YOLO(\"/content/drive/MyDrive/DATA/animal-5/animal.pt\")\n",
        "\n",
        "\n",
        "classNames = ['Elk', 'cat', 'dog', 'racoon', 'wild boar']\n",
        "img = cv2.imread(\"/content/drive/MyDrive/DATA/animal-5/test/images/cat15_jpg.rf.fd6be9a5febffe893c0b00a6c68585d6.jpg\")\n",
        "r = model(img)\n",
        "bs = r[0].boxes\n",
        "for box in bs:\n",
        "    # Bounding Box\n",
        "    x1, y1, x2, y2 = box.xyxy[0]\n",
        "    x1, y1, x2, y2 = int(x1), int(y1), int(x2), int(y2)\n",
        "    # cv2.rectangle(img,(x1,y1),(x2,y2),(255,0,255),3)\n",
        "    w, h = x2 - x1, y2 - y1\n",
        "    # cvzone.cornerRect(img, (x1, y1, w, h))\n",
        "\n",
        "    # Confidence\n",
        "    conf = math.ceil((box.conf[0] * 100)) / 100\n",
        "    # Class Name\n",
        "    cls = int(box.cls[0])\n",
        "    currentClass = classNames[cls]\n",
        "    print(currentClass)"
      ],
      "metadata": {
        "id": "Tb4OTpyosqQD"
      },
      "execution_count": null,
      "outputs": []
    },
    {
      "cell_type": "code",
      "source": [],
      "metadata": {
        "id": "S3TMuJyGHH0-"
      },
      "execution_count": null,
      "outputs": []
    }
  ]
}